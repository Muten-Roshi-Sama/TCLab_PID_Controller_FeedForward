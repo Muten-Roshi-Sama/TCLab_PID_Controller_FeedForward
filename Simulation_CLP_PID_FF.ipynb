{
 "cells": [
  {
   "cell_type": "markdown",
   "metadata": {},
   "source": [
    "# Simulation Parameters"
   ]
  },
  {
   "cell_type": "code",
   "execution_count": null,
   "metadata": {},
   "outputs": [],
   "source": [
    "# Simulation Parameters\n",
    "Tsim = 2000\n",
    "Ts=1\n",
    "N = int(Tsim/Ts)+1\n",
    "alpha = 1\n",
    "MVMin = 0\n",
    "MVMax = 100\n",
    "\n",
    "# Working Point\n",
    "MV0 = 50\n",
    "DV0 = 50\n",
    "PV0 = 75\n",
    "\n",
    "\n",
    "#--------Process------------\n",
    "# In-Out Dynamics\n",
    "Kp = 0.58\n",
    "T1p = 130.0\n",
    "T2p = 35\n",
    "thetaP = 10\n",
    "\n",
    "# Disturbance Dynamics\n",
    "Kd = 0.34\n",
    "T1d = 100\n",
    "T2d = 35\n",
    "thetaD = 32\n",
    "\n",
    "# Process Object\n",
    "P = Process({})\n",
    "P.parameters['Kp'] = Kp\n",
    "P.parameters['Tlead1'] = 0\n",
    "P.parameters['Tlag1'] = T1p\n",
    "P.parameters['Tlag2'] = T2p\n",
    "P.parameters['theta'] = thetaP\n",
    "P.parameters['nInt'] = 0\n",
    "\n",
    "\n",
    "#----------Controller-----------\n",
    "C = Controller({})\n",
    "\n",
    "# Tuning\n",
    "gamma = 0.6\n",
    "# IMCTuning(P, C, gamma)\n",
    "Kc = C.parameters['Kc']\n",
    "Ti = C.parameters['Ti']\n",
    "Td = C.parameters['Td']\n",
    "print('Kc = ', Kc)\n",
    "print('Ti = ', Ti)\n",
    "print('Td = ', Td)\n",
    "\n"
   ]
  },
  {
   "cell_type": "markdown",
   "metadata": {},
   "source": [
    "# Simulation Input Signals"
   ]
  },
  {
   "cell_type": "code",
   "execution_count": 1,
   "metadata": {},
   "outputs": [
    {
     "ename": "SyntaxError",
     "evalue": "invalid syntax (345138829.py, line 16)",
     "output_type": "error",
     "traceback": [
      "\u001b[1;36m  Cell \u001b[1;32mIn[1], line 16\u001b[1;36m\u001b[0m\n\u001b[1;33m    =\u001b[0m\n\u001b[1;37m    ^\u001b[0m\n\u001b[1;31mSyntaxError\u001b[0m\u001b[1;31m:\u001b[0m invalid syntax\n"
     ]
    }
   ],
   "source": [
    "# # Scenario 1: OLP + no FF\n",
    "# ManPath = {0: True, TSim: True}\n",
    "# MVManPath = {0: MV0, TSim: MV0}\n",
    "# SPPath = {0: PV0, TSim: PV0}\n",
    "# DVPath = {0: 50, 1000: 60, TSim: 60}\n",
    "# ActivateFF = False\n",
    "# ManFF = False\n",
    "\n",
    "## Scenario 2: OLP + FF\n",
    "#ManPath {0: True, TSim: True} # Path for Man\n",
    "# MVManPath = {0: MVO, TSim: MVO} # Path for MVMan # SPPath =\n",
    "# {0: PV0, TSim: PV0} # Path for SP\n",
    "# DVPath = {0: 50.0, 1000: 60, TSim: 60.0} # Path for DV # ActivateFF = True\n",
    "#ManFF = True\n",
    "\n",
    "\n",
    "## Scenario 3: CLP + no FF\n",
    "ManPath= {0: True, 500: False, TSim: False} # Path for Man MVManPath (0: MV0+10, TSim: MV8+10} # Path for MVMan SPPath {0: PV0+5, 100e: Pve-5, TSim: PV8-5} # Path for SP DVPath = {0: Dve, 1500: Dve+10, TSim: DV0+10} # Path for DV ActivateFF = False\n",
    "ManFF = False I\n",
    "\n",
    "\n",
    "#Scenario 4: CLP + FF\n",
    "#ManPath = {0: True, 500: False, TSim: False} # Path for Man # MVManPath = {0: MV0+10, TSim: MV0+10} # Path for MVMan #SPPath = {0: PV0+5, 1000: PV0-5, TSim: PV0-5} # Path for SP # DVPath {0: Dve, 1500: DV0+10, TSim: DV0+10} # Path for DV # ActivateFF = True\n",
    "#ManFF = False\n",
    "\n",
    "\n",
    "\n"
   ]
  },
  {
   "cell_type": "markdown",
   "metadata": {},
   "source": [
    "# Closed-loop simultion PID_FF"
   ]
  },
  {
   "cell_type": "code",
   "execution_count": null,
   "metadata": {},
   "outputs": [],
   "source": [
    "\n",
    "#Feedforward   voir schema vert rouge bleu\n",
    "Daly_RT(DV - DV0*np.ones.like(D\n",
    "LeadLag_RT(\n",
    "if ActiveFF:\n",
    "    LeadLag_RT(MVFFLL1, 1, T2p, T2d, Ts, MVFF)\n",
    "else:\n",
    "    LeadLag_RT(MVFFLL1, 0, T2p, T2d, Ts, MVFF)\n",
    "\n",
    "# PID Controller Mode\n",
    "\n",
    "\n",
    "# PID Control Action\n",
    "\n",
    "\n",
    "# Input-Output Dynamics P(s)\n",
    "    Delay_RT(MV, thetap, Ts, MVDelayp, MV0)\n",
    "    FO_RT(MVDelayp, Kp, T1p, Ts, PV1p, 0)\n",
    "    FO_RT(PV1p, 1, T2p, Ts, PV2p, 0)\n",
    "\n",
    "# Disturbance dynamics D(s)\n",
    "    Delay_RT(DV - DV0*np.ones_like(DV), thetad, Ts, MVDelayd, MV0)\n",
    "    FO_RT(MVDelayd, Kd, T1d, Ts, PV1d, 0)\n",
    "    FO_RT(PV1d, 1, T2d, Ts, PV2d, 0)\n",
    "    \n",
    "PV.append(PV2p[-1] + PV2d[-1] +PV0-Kp*MV0) # PV0 = Kp*MV0 + 0 + PV0 - Kp*MV0\n",
    "\n",
    "\n",
    "\n"
   ]
  },
  {
   "cell_type": "code",
   "execution_count": null,
   "metadata": {},
   "outputs": [],
   "source": []
  }
 ],
 "metadata": {
  "kernelspec": {
   "display_name": "Python 3 (ipykernel)",
   "language": "python",
   "name": "python3"
  },
  "language_info": {
   "codemirror_mode": {
    "name": "ipython",
    "version": 3
   },
   "file_extension": ".py",
   "mimetype": "text/x-python",
   "name": "python",
   "nbconvert_exporter": "python",
   "pygments_lexer": "ipython3",
   "version": "3.11.7"
  }
 },
 "nbformat": 4,
 "nbformat_minor": 4
}
