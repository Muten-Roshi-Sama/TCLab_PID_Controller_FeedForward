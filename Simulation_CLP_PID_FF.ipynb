{
 "cells": [
  {
   "cell_type": "markdown",
   "metadata": {},
   "source": [
    "# Simulation Parameters"
   ]
  },
  {
   "cell_type": "code",
   "execution_count": null,
   "metadata": {},
   "outputs": [],
   "source": [
    "# Simulation Parameters\n",
    "Tsim = 2000\n",
    "Ts=1\n",
    "N = int(Tsim/Ts)+1\n",
    "alpha = 1\n",
    "MVMin = 0\n",
    "MVMax = 100\n",
    "\n",
    "# Working Point\n",
    "MV0 = 50\n",
    "DV0 = 50\n",
    "PV0 = 75\n",
    "\n",
    "\n",
    "#--------Process------------\n",
    "# In-Out Dynamics\n",
    "Kp = 0.58\n",
    "T1p = 130.0\n",
    "T2p = 35\n",
    "thetap = 10\n",
    "\n",
    "# Disturbance Dynamics\n",
    "Kd = 0.34\n",
    "T1d = 100\n",
    "T2d = 35\n",
    "thetad = 32\n",
    "\n",
    "# Process Object\n",
    "P = Process({})\n",
    "P.parameters['Kp'] = Kp\n",
    "P.parameters['Tlead1'] = 0\n",
    "P.parameters['Tlag1'] = T1p\n",
    "P.parameters['Tlag2'] = T2p\n",
    "P.parameters['theta'] = thetaP\n",
    "P.parameters['nInt'] = 0\n",
    "\n",
    "\n",
    "#----------Controller-----------\n",
    "C = Controller({})\n",
    "\n",
    "# Tuning\n",
    "gamma = 0.6\n",
    "# IMCTuning(P, C, gamma)\n",
    "Kc = C.parameters['Kc']\n",
    "Ti = C.parameters['Ti']\n",
    "Td = C.parameters['Td']\n",
    "print('Kc = ', Kc)\n",
    "print('Ti = ', Ti)\n",
    "print('Td = ', Td)\n",
    "\n"
   ]
  },
  {
   "cell_type": "markdown",
   "metadata": {},
   "source": [
    "# Simulation Input Signals"
   ]
  },
  {
   "cell_type": "code",
   "execution_count": 1,
   "metadata": {},
   "outputs": [
    {
     "ename": "SyntaxError",
     "evalue": "invalid syntax (345138829.py, line 16)",
     "output_type": "error",
     "traceback": [
      "\u001b[1;36m  Cell \u001b[1;32mIn[1], line 16\u001b[1;36m\u001b[0m\n\u001b[1;33m    =\u001b[0m\n\u001b[1;37m    ^\u001b[0m\n\u001b[1;31mSyntaxError\u001b[0m\u001b[1;31m:\u001b[0m invalid syntax\n"
     ]
    }
   ],
   "source": [
    "# # Scenario 1: OLP + no FF\n",
    "# ManPath = {0: True, TSim: True}\n",
    "# MVManPath = {0: MV0, TSim: MV0}\n",
    "# SPPath = {0: PV0, TSim: PV0}\n",
    "# DVPath = {0: 50, 1000: 60, TSim: 60}\n",
    "# ActivateFF = False\n",
    "# ManFF = False\n",
    "\n",
    "## Scenario 2: OLP + FF\n",
    "#ManPath {0: True, TSim: True} # Path for Man\n",
    "# MVManPath = {0: MVO, TSim: MVO} # Path for MVMan # SPPath =\n",
    "# {0: PV0, TSim: PV0} # Path for SP\n",
    "# DVPath = {0: 50.0, 1000: 60, TSim: 60.0} # Path for DV # ActivateFF = True\n",
    "#ManFF = True\n",
    "\n",
    "\n",
    "## Scenario 3: CLP + no FF\n",
    "# ManPath= {0: True, 500: False, TSim: False} \n",
    "# MVManPath {0: MV0+10, TSim: MV0+10} \n",
    "# SPPath {0: PV0+5, 1000: PV0-5, TSim: PV0-5} \n",
    "# DVPath = {0: Dve, 1500: Dve+10, TSim: DV0+10}\n",
    "# ActivateFF = False\n",
    "# ManFF = False\n",
    "\n",
    "\n",
    "#Scenario 4: CLP + FF\n",
    "#ManPath = {0: True, 500: False, TSim: False} # Path for Man # MVManPath = {0: MV0+10, TSim: MV0+10} # Path for MVMan #SPPath = {0: PV0+5, 1000: PV0-5, TSim: PV0-5} # Path for SP # DVPath {0: Dve, 1500: DV0+10, TSim: DV0+10} # Path for DV # ActivateFF = True\n",
    "#ManFF = False\n"
   ]
  },
  {
   "cell_type": "markdown",
   "metadata": {},
   "source": [
    "# Closed-loop simultion PID_FF"
   ]
  },
  {
   "cell_type": "code",
   "execution_count": null,
   "metadata": {},
   "outputs": [],
   "source": [
    "\n",
    "\n",
    "\n",
    "for i in range(0, N):\n",
    "    t.append(i*Ts)\n",
    "    \n",
    "    # Inputs SP, DV\n",
    "    SelectPath_RT(SPPath, t, SP)\n",
    "    SelectPath_RT(DVPath, t DV)\n",
    "    \n",
    "    \n",
    "    # Feedforward   voir schema vert rouge bleu\n",
    "    Delay_RT(DV - DV0*np.ones_like(DV), np.max([thetad-thetap, 0]), Ts, MVFFDelay)\n",
    "    LL_RT(MVFFDelay, -Kd/Kp, T1p, T1d, Ts, MVFFLL1)\n",
    "    if ActivateFF:\n",
    "        LL_RT(MVFFLL1, 1, T2p, T2d, Ts, MVFF)\n",
    "    else:\n",
    "        LL_RT(MVFFLL1, 0, T2p, T2d, Ts, MVFF)\n",
    "\n",
    "    # PID controller mode\n",
    "    SelectPath_RT(ManPath,t,Man)\n",
    "    SelectPath_RT(MVManPath, t, MVMan)\n",
    "    # PID control action\n",
    "    PID_RT(SP, PV, Man, MVMan, MVFF, Kc, Ti, Td, alpha, Ts, MVMin, MVMax, MV, MVP, MVI, MVD, E, EP, ED, ManFF, PV0)\n",
    "    # Input-output dynamics P(s)\n",
    "    Delay_RT(MV, thetap, Ts, MVDelayp,Mv0)\n",
    "    FO_RT(MVDelayp, Kp, T1p, Ts, PV1p,0)\n",
    "    FO_RT(PV1P,1 ,T2p, Ts, PV2p, 0)\n",
    "    # Disturbance dynamics D(s)\n",
    "    Delay_RT(DV - Dv0*np.ones_like(DV), thetad, Ts, MVDelayd, 0)\n",
    "    FO_RT(MVDelayd, Kd, T1d, Ts, PV1d,0)\n",
    "    FO_RT(PV1d,1,T2d, Ts, PV2d, 0)\n",
    "    \n",
    "    PV.append(PV2p[-1]+ PV2d [-1]+ PV0 - Kp*MV0) # PV0 = Kp*MV0 + 0 + PV0 - Kp*MV0\n",
    "\n"
   ]
  },
  {
   "cell_type": "markdown",
   "metadata": {},
   "source": [
    "# Plot"
   ]
  },
  {
   "cell_type": "code",
   "execution_count": null,
   "metadata": {},
   "outputs": [],
   "source": [
    "now = datetime.now()\n",
    "date_time = now.strftime(\"%Y-%m-%d-%Hh%M\")\n",
    "\n",
    "\n",
    "fig, (ax1, ax2, ax3, ax4) = plt.subplots(4,1, gridspec_kw={'height_ratios': [1, 8, 8, 1]})\n",
    "fig.set_figheight(15)\n",
    "fig.set_figwidth(22)\n",
    "\n",
    "l1, = ax1.step([0,TSim], [-0.1,1.1], 'k-',linewidth=2, label='Man', where=\"post\")\n",
    "ax1.set_ylabel('Value of Man [0 or 1]')\n",
    "ax1.set_title('Closed-loop response with PID controller and feedforward: '+ date_time)\n",
    "ax1.legend (loc='best')\n",
    "\n",
    "l2, = ax2.step([0, TSim], [-10,100], 'b-', linewidth=3, label='MV', where='post') \n",
    "l3, = ax2.step([0, TSim], [-10,100], 'm:',linewidth=1, label='MVP', where='post') \n",
    "l4, = ax2.step([0, TSim], [-10,100], 'c--', linewidth=1, label='MVI', where='post')\n",
    "l5, = ax2.step([0, TSim], [-10,100], 'b-.', linewidth=1, label='MVD', where='post')\n",
    "l6, = ax2.step([0, TSim], [-10,100], 'r-.', linewidth=1, label='MVFF', where='post') \n",
    "ax2.set_ylabel('Value of MV [%]')\n",
    "ax2.legend (loc='best')\n",
    "\n",
    "\n",
    "l7, = ax3.step([0, TSim], [0,100], 'brown', linewidth=3, label='SP', where=\"post\")\n",
    "l8, = ax3.step([0, TSim], [0,100], 'g-', linewidth=2, label='PV', where='post')\n",
    "ax3.set_ylabel('Value of PV [°C]')\n",
    "ax3.legend (loc='best')\n",
    "\n",
    "l9, = ax4.step([0, TSim], [0,100], 'r-', linewidth=3, label='DV', where='post')\n",
    "ax4.set_xlabel('Time [s]')\n",
    "ax4.set_ylabel('Value of DV [%]')\n",
    "ax4.legend (loc='best')\n",
    "\n",
    "ManInt = [int(x) for x in Man]\n",
    "\n",
    "l1.set_data(t, Man)\n",
    "l2.set_data(t,MV)\n",
    "l3.set_data(t, MVP)\n",
    "l4.set_data(t,MVI)\n",
    "l5.set_data(t, MVD)\n",
    "l6.set_data(t, MVFF)\n",
    "l7.set_data(t, SP)\n",
    "l8.set_data(t, PV)\n",
    "l9.set_data(t, DV)\n",
    "\n",
    "ax1.set_xlim(0, t[-1]+1)\n",
    "ax2.set_xlim(0, t[-1]+1)\n",
    "ax3.set_xlim(0, t[-1]+1)\n",
    "ax4.set_xlim(0, t[-1]+1)\n",
    "\n",
    "MVMinscope = -5 + myRound(np.min([np.min(MV), np.min(MVP), np.min(MVI), np.min(MVD), np.min(MVFF)]), 5)\n",
    "MVMaxscope = 5 + myRound(np.max([np.max(MV), np.max(MVP), np.max(MVI), np.max(MVD), np.max(MVFF)]), 5)"
   ]
  }
 ],
 "metadata": {
  "kernelspec": {
   "display_name": "Python 3 (ipykernel)",
   "language": "python",
   "name": "python3"
  },
  "language_info": {
   "codemirror_mode": {
    "name": "ipython",
    "version": 3
   },
   "file_extension": ".py",
   "mimetype": "text/x-python",
   "name": "python",
   "nbconvert_exporter": "python",
   "pygments_lexer": "ipython3",
   "version": "3.11.7"
  }
 },
 "nbformat": 4,
 "nbformat_minor": 4
}
