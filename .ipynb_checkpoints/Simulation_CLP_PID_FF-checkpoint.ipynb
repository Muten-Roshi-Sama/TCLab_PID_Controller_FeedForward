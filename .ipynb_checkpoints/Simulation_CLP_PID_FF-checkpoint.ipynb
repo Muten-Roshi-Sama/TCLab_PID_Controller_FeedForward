{
 "cells": [
  {
   "cell_type": "code",
   "execution_count": null,
   "metadata": {},
   "outputs": [],
   "source": [
    "# Simulation PArameters"
   ]
  },
  {
   "cell_type": "code",
   "execution_count": null,
   "metadata": {},
   "outputs": [],
   "source": [
    "#working point"
   ]
  },
  {
   "cell_type": "code",
   "execution_count": null,
   "metadata": {},
   "outputs": [],
   "source": [
    "#Simulation Input Signals"
   ]
  },
  {
   "cell_type": "code",
   "execution_count": null,
   "metadata": {},
   "outputs": [],
   "source": [
    "# #Scenario 1 : OLP + noFF\n",
    "Manpath = []\n",
    "\n",
    "# # Scenario 2 :\n",
    "# Scenario 3 :\n",
    "# Scenario 4 :\n",
    "Manpath = {}"
   ]
  },
  {
   "cell_type": "code",
   "execution_count": null,
   "metadata": {},
   "outputs": [],
   "source": []
  },
  {
   "cell_type": "code",
   "execution_count": null,
   "metadata": {},
   "outputs": [],
   "source": [
    "\n",
    "#Feedforward   voir schema vert rouge bleu\n",
    "Daly_RT(DV - DV0*np.ones.like(D\n",
    "LeadLag_RT(\n",
    "if ActiveFF:\n",
    "    LeadLag_RT(MVFFLL1, 1, T2p, T2d, Ts, MVFF)\n",
    "else:\n",
    "    LeadLag_RT(MVFFLL1, 0, T2p, T2d, Ts, MVFF)\n",
    "\n",
    "#PID Controller Mode\n",
    "\n",
    "\n",
    "#PID Control Action\n",
    "\n",
    "\n",
    "#Input-Output Dynamics P(s)\n",
    "    Delay_RT(MV, theta, TS, MVDelay, MV0)\n",
    "\n",
    "#Disturbance dynamics D(s)\n",
    "    Delay_RT(DV - DV0*np , theta, TS, MVDelayd, MV0)\n",
    "\n",
    "\n",
    "#\n",
    "\n",
    "        \n",
    "\n",
    "\n",
    "\n",
    "\n",
    "+PV0 - Kp*MV0"
   ]
  },
  {
   "cell_type": "code",
   "execution_count": null,
   "metadata": {},
   "outputs": [],
   "source": []
  }
 ],
 "metadata": {
  "kernelspec": {
   "display_name": "Python 3 (ipykernel)",
   "language": "python",
   "name": "python3"
  },
  "language_info": {
   "codemirror_mode": {
    "name": "ipython",
    "version": 3
   },
   "file_extension": ".py",
   "mimetype": "text/x-python",
   "name": "python",
   "nbconvert_exporter": "python",
   "pygments_lexer": "ipython3",
   "version": "3.11.7"
  }
 },
 "nbformat": 4,
 "nbformat_minor": 4
}
