{
 "cells": [
  {
   "cell_type": "markdown",
   "id": "68acdf31",
   "metadata": {},
   "source": [
    "# Clean data"
   ]
  },
  {
   "cell_type": "code",
   "execution_count": 3,
   "id": "e9482e7b",
   "metadata": {},
   "outputs": [
    {
     "ename": "ModuleNotFoundError",
     "evalue": "No module named 'pandas'",
     "output_type": "error",
     "traceback": [
      "\u001b[1;31m---------------------------------------------------------------------------\u001b[0m",
      "\u001b[1;31mModuleNotFoundError\u001b[0m                       Traceback (most recent call last)",
      "Cell \u001b[1;32mIn[3], line 1\u001b[0m\n\u001b[1;32m----> 1\u001b[0m \u001b[38;5;28;01mimport\u001b[39;00m \u001b[38;5;21;01mpandas\u001b[39;00m \u001b[38;5;28;01mas\u001b[39;00m \u001b[38;5;21;01mpd\u001b[39;00m\n\u001b[0;32m      2\u001b[0m \u001b[38;5;28;01mimport\u001b[39;00m \u001b[38;5;21;01mmatplotlib\u001b[39;00m\u001b[38;5;21;01m.\u001b[39;00m\u001b[38;5;21;01mpyplot\u001b[39;00m \u001b[38;5;28;01mas\u001b[39;00m \u001b[38;5;21;01mplt\u001b[39;00m\n\u001b[0;32m      3\u001b[0m \u001b[38;5;28;01mimport\u001b[39;00m \u001b[38;5;21;01mnumpy\u001b[39;00m \u001b[38;5;28;01mas\u001b[39;00m \u001b[38;5;21;01mnp\u001b[39;00m\n",
      "\u001b[1;31mModuleNotFoundError\u001b[0m: No module named 'pandas'"
     ]
    }
   ],
   "source": [
    "\n",
    "import pandas as pd\n",
    "import matplotlib.pyplot as plt\n",
    "import numpy as np\n",
    "\n",
    "import os\n",
    "\n",
    "import package_DBR\n",
    "from package_DBR import myRound"
   ]
  },
  {
   "cell_type": "code",
   "execution_count": null,
   "id": "91a813b5",
   "metadata": {},
   "outputs": [],
   "source": [
    "# nameFile = 'Open_loop_experiment_on_MV_2024-03-11-09h21'\n",
    "nameFile = 'Open_loop_experiment_on_DV_2024-03-27-17h23.txt'\n",
    "\n",
    "if 'MV' in nameFile:\n",
    "    ExpVariable = 'MV'\n",
    "else:    \n",
    "    ExpVariable = 'DV'\n",
    "    \n",
    "print(ExpVariable)    \n",
    "    \n",
    "titleName = nameFile.split('.')[0]    \n",
    "data = pd.read_csv('Data/' + nameFile)\n",
    "t = data['t'].values - data['t'].values[0]\n",
    "MV = data['MV'].values\n",
    "PV = data['PV'].values\n",
    "DV = data['DV'].values"
   ]
  },
  {
   "cell_type": "markdown",
   "id": "8eb07ce4",
   "metadata": {},
   "source": [
    "# Plot loaded data"
   ]
  },
  {
   "cell_type": "code",
   "execution_count": null,
   "id": "abdf74d7",
   "metadata": {},
   "outputs": [],
   "source": [
    "fig, (ax1, ax2, ax3) = plt.subplots(3,1)\n",
    "fig.set_figheight(12)\n",
    "fig.set_figwidth(22)\n",
    "\n",
    "l1, = ax1.step([0,1],[0,100],'b-',linewidth=2,label='MV',where='post')\n",
    "ax1.set_ylabel('Value of MV [%]')\n",
    "ax1.set_title(titleName)\n",
    "ax1.legend(loc='best')\n",
    "\n",
    "l2, = ax2.step([0,1],[0,100],'g-',linewidth=2,label='PV',where='post')\n",
    "ax2.set_ylabel('Value of PV [°C]')\n",
    "ax2.legend(loc='best')\n",
    "\n",
    "l3, = ax3.step([0,1],[0,100],'r-',linewidth=2,label='DV',where='post')\n",
    "ax3.set_xlabel('Time [s]')\n",
    "ax3.set_ylabel('Value of DV [%]')\n",
    "ax3.legend(loc='best')\n",
    "\n",
    "l1.set_data(t,MV)\n",
    "l2.set_data(t,PV)\n",
    "l3.set_data(t,DV)\n",
    "\n",
    "ax1.set_xlim(0, t[-1]+1)\n",
    "ax2.set_xlim(0, t[-1]+1)\n",
    "ax3.set_xlim(0, t[-1]+1)\n",
    "\n",
    "ax1.set_ylim(myRound(np.min(MV),5)-5, myRound(np.max(MV),5)+5)\n",
    "ax2.set_ylim(myRound(np.min(PV),5)-5, myRound(np.max(PV),5)+5)\n",
    "ax3.set_ylim(myRound(np.min(DV),5)-5, myRound(np.max(DV),5)+5)"
   ]
  },
  {
   "cell_type": "markdown",
   "id": "1c2056f5",
   "metadata": {},
   "source": [
    "# Clean data"
   ]
  },
  {
   "cell_type": "code",
   "execution_count": null,
   "id": "8a899ccc",
   "metadata": {},
   "outputs": [],
   "source": [
    "if ExpVariable == 'MV':\n",
    "    tstep = np.argwhere(np.diff(MV) != 0)\n",
    "    tstep = tstep[0][0]\n",
    "    tm = t[tstep:]\n",
    "    tm = tm - tm[0]    \n",
    "    MVstep = MV[tstep + 1] - MV[tstep]\n",
    "    MVm = MV[tstep:]\n",
    "    PVm = PV[tstep:]\n",
    "    PVm = (PVm - PVm[0])/MVstep\n",
    "    MVm = (MVm - MVm[0])/MVstep    \n",
    "else:    \n",
    "    tstep = np.argwhere(np.diff(DV) != 0)\n",
    "    tstep = tstep[0][0]\n",
    "    tm = t[tstep:]\n",
    "    tm = tm - tm[0]\n",
    "    DVstep = DV[tstep + 1] - DV[tstep]    \n",
    "    DVm = DV[tstep:]\n",
    "    PVm = PV[tstep:]\n",
    "    PVm = (PVm - PVm[0])/DVstep\n",
    "    DVm = (DVm - DVm[0])/DVstep"
   ]
  },
  {
   "cell_type": "markdown",
   "id": "78f1f2bb",
   "metadata": {},
   "source": [
    "# Plot cleaned data"
   ]
  },
  {
   "cell_type": "code",
   "execution_count": null,
   "id": "ebd72b3c",
   "metadata": {},
   "outputs": [],
   "source": [
    "plt.figure(figsize = (22,22))\n",
    "\n",
    "fig, (ax1, ax2) = plt.subplots(2,1)\n",
    "fig.set_figheight(12)\n",
    "fig.set_figwidth(22)\n",
    "\n",
    "if ExpVariable == 'MV':\n",
    "    l1, = ax1.step([0,1],[0,100],'b-',linewidth=2,label='Cleaned MV',where='post')\n",
    "    ax1.set_ylabel('Value of MV [%]')\n",
    "    ax1.set_title(titleName)\n",
    "    ax1.legend(loc='best')\n",
    "    l1.set_data(tm,MVm)\n",
    "    ax1.set_ylim(myRound(np.min(MVm),1)-0.1, myRound(np.max(MVm),1)+0.1)    \n",
    "else:\n",
    "    l1, = ax1.step([0,1],[0,100],'b-',linewidth=2,label='Cleaned DV',where='post')\n",
    "    ax1.set_ylabel('Value of DV [%]')\n",
    "    ax1.set_title(titleName)\n",
    "    ax1.legend(loc='best')\n",
    "    l1.set_data(tm,DVm)\n",
    "    ax1.set_ylim(myRound(np.min(DVm),1)-0.1, myRound(np.max(DVm),1)+0.1)     \n",
    "\n",
    "l2, = ax2.step([0,1],[0,100],'g-',linewidth=2,label='Cleaned PV',where='post')\n",
    "ax2.set_ylabel('Value of PV [°C]')\n",
    "ax2.legend(loc='best')\n",
    "l2.set_data(tm,PVm)\n",
    "ax2.set_ylim(myRound(np.min(PVm),0.1)-0.1, myRound(np.max(PVm),0.1)+0.1)\n",
    "\n",
    "ax1.set_xlim(0, t[-1]+1)\n",
    "ax2.set_xlim(0, t[-1]+1)\n",
    "\n",
    "\n",
    "# Save cleaned data\n",
    "if ExpVariable == 'MV':\n",
    "    my_data = np.vstack((tm.T,MVm.T,PVm.T))\n",
    "else:\n",
    "    my_data = np.vstack((tm.T,DVm.T,PVm.T))\n",
    "my_data = my_data.T\n",
    "nameFile = 'Data/Cleaned_data_' + titleName + '.txt'\n",
    "if not os.path.exists('Data'):\n",
    "    os.makedirs('Data')\n",
    "if ExpVariable == 'MV':\n",
    "    np.savetxt(nameFile,my_data,delimiter=',',header='tm,MVm,PVm',comments='') \n",
    "else:\n",
    "    np.savetxt(nameFile,my_data,delimiter=',',header='tm,DVm,PVm',comments='')     "
   ]
  }
 ],
 "metadata": {
  "kernelspec": {
   "display_name": "Python 3 (ipykernel)",
   "language": "python",
   "name": "python3"
  },
  "language_info": {
   "codemirror_mode": {
    "name": "ipython",
    "version": 3
   },
   "file_extension": ".py",
   "mimetype": "text/x-python",
   "name": "python",
   "nbconvert_exporter": "python",
   "pygments_lexer": "ipython3",
   "version": "3.11.7"
  }
 },
 "nbformat": 4,
 "nbformat_minor": 5
}
