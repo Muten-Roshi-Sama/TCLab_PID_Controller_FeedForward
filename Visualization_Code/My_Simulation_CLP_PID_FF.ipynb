{
  "cells": [
    {
      "cell_type": "markdown",
      "metadata": {},
      "source": [
        "# Imports"
      ]
    },
    {
      "cell_type": "code",
      "execution_count": 1,
      "metadata": {},
      "outputs": [],
      "source": [
        "import pandas as pd\n",
        "import numpy as np\n",
        "import datetime as datetime\n",
        "import matplotlib.pyplot as plt\n",
        "from scipy.optimize import minimize\n",
        "from matplotlib import colors as mcolors\n",
        "\n",
        "import sys\n",
        "sys.path.append('../')  # Add parent directory to the Python path\n",
        "\n",
        "import package_DBR\n",
        "import package_LAB\n",
        "\n",
        "from importlib import reload\n",
        "package_DBR = reload (package_DBR)\n",
        "package_LAB = reload(package_LAB)\n",
        "\n",
        "from package_LAB import *\n",
        "from package_DBR import *\n"
      ]
    },
    {
      "cell_type": "markdown",
      "metadata": {},
      "source": [
        "# Open/Closed-Loop Simulations"
      ]
    },
    {
      "cell_type": "markdown",
      "metadata": {},
      "source": [
        "### Simulation Parameters"
      ]
    },
    {
      "cell_type": "code",
      "execution_count": 3,
      "metadata": {},
      "outputs": [
        {
          "name": "stdout",
          "output_type": "stream",
          "text": [
            "Kc =  2.2572144461724557\n",
            "Ti =  209\n",
            "Td =  7.69377990430622\n",
            "T1d/Ti, T2d/TI =  0.507177033492823  ,  0.6602870813397129\n"
          ]
        }
      ],
      "source": [
        "# Simulation Parameters\n",
        "TSim = 4000          # Total simulation time\n",
        "Ts=1                 # Sampling time\n",
        "N = int(TSim/Ts)+1   #simulation steps\n",
        "alpha = 1     # Filter coefficient : T_FD = alpha*T_D\n",
        "MVMin = 0\n",
        "MVMax = 100\n",
        "\n",
        "# Working Point\n",
        "MV0 = 50             #Manipulated V, Process V, Disturbance V\n",
        "PV0 = 58 #46.55           # from our own experience 52.5\n",
        "DV0 = 50\n",
        "\n",
        "\n",
        "#--------Process------------\n",
        "# Values from \"Identification of SOPDT Model.\"\n",
        "# In-Out Dynamics\n",
        "Kp = 0.36             # Process gain (affect MV and PV)\n",
        "T1p = 201             # speed of the process response\n",
        "T2p = 8          # Slight delay in the response\n",
        "thetap = 8          # Dead time : time delay between MV change and PV change.time delay between MV change and PV change.\n",
        "\n",
        "\n",
        "# Disturbance Dynamics\n",
        "Kd = 0.23            #  Disturbance gain : Affects the impact of the disturbance on PV.\n",
        "T1d = 106            #  how quickly the disturbance affects the PV.\n",
        "T2d = 138            #  delay in the disturbance effect\n",
        "thetad = 31           #  Dead time : time delay between a change in the disturbance and its effect on PV\n",
        "\n",
        "\n",
        "#----------Controller-----------\n",
        "# Tuning§\n",
        "gamma = 0.6           # Tuning parameter for the IMC\n",
        "Kc, Ti, Td = IMCTuning(Kp,T1p,T2p,thetap,gamma,'SOPDT')\n",
        "\n",
        "Kc = Kc/2   # to adjust the integral spike\n",
        "\n",
        "print('Kc = ', Kc)   # Controller gain : contrôle temps de réaction, aussi l'erreur statique mais celle-ci +facile a corriger avec Integral.\n",
        "print('Ti = ', Ti)   # Controller integral time constant : Gradual and continuing action until a zero steady-state response E=0 (increasing Ti = decreasing Integral Action)\n",
        "print('Td = ', Td)   # Controller derivative time constant :  faster response to process changes\n",
        "\n",
        "print('T1d/Ti, T2d/TI = ', T1d/Ti, \" , \", T2d/Ti)  # needs to be < 0.25\n"
      ]
    },
    {
      "cell_type": "markdown",
      "metadata": {},
      "source": []
    },
    {
      "cell_type": "markdown",
      "metadata": {},
      "source": [
        "### OLP/CLP Scenarios (Paths)"
      ]
    },
    {
      "cell_type": "code",
      "execution_count": null,
      "metadata": {},
      "outputs": [],
      "source": [
        "# # Scenario 1: OLP + no FF\n",
        "# ManPath = {0: True, TSim: True}\n",
        "# MVManPath = {0: MV0, TSim: MV0}\n",
        "# SPPath = {0: PV0, TSim: PV0}\n",
        "# DVPath = {0: 50, 1000: 60, TSim: 60}\n",
        "# ActivateFF = False\n",
        "# ManFF = False\n",
        "\n",
        "# Scenario 2: OLP + FF\n",
        "# ManPath ={0: True, TSim: True}\n",
        "# MVManPath = {0: MV0, TSim: MV0}\n",
        "# SPPath ={0: PV0, TSim: PV0}\n",
        "# DVPath = {0: 50.0, 1000: 60, TSim: 60.0}\n",
        "# ActivateFF = True\n",
        "# ManFF = True\n",
        "\n",
        "# # Scenario 3: CLP + no FF\n",
        "# ManPath= {0: True, 500: False, TSim: False} \n",
        "# MVManPath ={0: MV0+10, TSim: MV0+10} \n",
        "# SPPath ={0: PV0+5, 1300: PV0-5, TSim: PV0-5} \n",
        "# DVPath = {0: DV0, 2500: DV0+10, TSim: DV0+10}\n",
        "# ActivateFF = False\n",
        "# ManFF = False\n",
        "\n",
        "# Scenario 4: CLP + FF\n",
        "ManPath = {0: True, 500: False, TSim: False} \n",
        "MVManPath = {0: MV0+10, TSim: MV0+10} \n",
        "SPPath = {0: PV0+5, 1500: PV0-5, TSim: PV0-5} \n",
        "DVPath = {0: DV0, 2900: DV0+20, TSim: DV0+10}\n",
        "ActivateFF = True\n",
        "ManFF = False\n",
        "\n"
      ]
    },
    {
      "cell_type": "markdown",
      "metadata": {},
      "source": [
        "### Open/Closed-loop simultion PID with or without FF"
      ]
    },
    {
      "cell_type": "code",
      "execution_count": null,
      "metadata": {},
      "outputs": [],
      "source": [
        "t = []\n",
        "SP = []\n",
        "MV = []\n",
        "Man = []\n",
        "MVMan = []\n",
        "MVFF = []\n",
        "MVP = []\n",
        "MVI = []\n",
        "MVD = []\n",
        "DV = []\n",
        "PV = []\n",
        "E = []\n",
        "MVFFDelay = []\n",
        "MVFFLL1 = []\n",
        "MVDelayp = []\n",
        "PV1p = []\n",
        "PV2p = []\n",
        "MVDelayd = []\n",
        "PV1d = []\n",
        "PV2d = []\n",
        "\n",
        "\n",
        "for i in range(0, N):\n",
        "    t.append(i*Ts)\n",
        "    \n",
        "    # Inputs SP, DV\n",
        "    SelectPath_RT(SPPath, t, SP)\n",
        "    SelectPath_RT(DVPath, t, DV)\n",
        "    \n",
        "    \n",
        "    # Feedforward   voir schema vert rouge bleu\n",
        "    Delay_RT(DV - DV0*np.ones_like(DV), np.max([thetad-thetap, 0]), Ts, MVFFDelay)\n",
        "    LL_RT(MVFFDelay, -Kd/Kp, T1p, T1d, Ts, MVFFLL1)\n",
        "    if ActivateFF:\n",
        "        LL_RT(MVFFLL1, 1, T2p, T2d, Ts, MVFF)\n",
        "    else:\n",
        "        LL_RT(MVFFLL1, 0, T2p, T2d, Ts, MVFF)\n",
        "\n",
        "\n",
        "\n",
        "    # PID control action\n",
        "    SelectPath_RT(ManPath,t,Man)\n",
        "    SelectPath_RT(MVManPath, t, MVMan)\n",
        "    # print(\"Kc = \", Kc)\n",
        "    PID_RT(SP, PV, Man, MVMan, MVFF, Kc, Ti, Td, alpha, Ts, MVMin, MVMax, MV, MVP, MVI, MVD, E, ManFF=False, PVInit=PV0, method='EBD-EBD')\n",
        "    \n",
        "    \n",
        "    \n",
        "    # Input-output dynamics P(s)========== delay + 2 FO\n",
        "    Delay_RT(MV, thetap, Ts, MVDelayp,MV0)\n",
        "    FO_RT(MVDelayp, Kp, T1p, Ts, PV1p,0)\n",
        "    FO_RT(PV1p,1 ,T2p, Ts, PV2p, 0)       #Lead Lag ???\n",
        "    \n",
        "    \n",
        "    \n",
        "    # Disturbance dynamics D(s)========== delay + 2 FO\n",
        "    Delay_RT(DV - DV0*np.ones_like(DV), thetad, Ts, MVDelayd, 0)\n",
        "    FO_RT(MVDelayd, Kd, T1d, Ts, PV1d,0)\n",
        "    FO_RT(PV1d,1,T2d, Ts, PV2d, 0)\n",
        "    \n",
        "    \n",
        "    PV.append(PV2p[-1]+ PV2d [-1]+ PV0 - Kp*MV0) # PV0 = Kp*MV0 + 0 + PV0 - Kp*MV0\n",
        "\n"
      ]
    },
    {
      "cell_type": "markdown",
      "metadata": {},
      "source": [
        "### CLP/OLP Plot"
      ]
    },
    {
      "cell_type": "code",
      "execution_count": null,
      "metadata": {},
      "outputs": [],
      "source": [
        "fig, (ax1, ax2, ax3, ax4) = plt.subplots(nrows=4,ncols=1, sharex='col', gridspec_kw={'height_ratios': [1.5, 7, 7, 1.5]})\n",
        "fig.set_figheight(12)\n",
        "fig.set_figwidth(20)\n",
        "\n",
        "ax1.set_title('PID_CLP_with_FF')\n",
        "\n",
        "#------MAN--------\n",
        "limSup = 1.5\n",
        "limInf = -0.5\n",
        "l1, = ax1.step([0,TSim], [limInf,limSup], 'green',linewidth=2, label='Man', where=\"post\")\n",
        "ax1.set_ylabel('Man')\n",
        "ax1.legend (loc='best')\n",
        "\n",
        "#-------MV_MVP_MVI_MVD_MVFF--------------\n",
        "limSup = 70\n",
        "limInf = -20\n",
        "l2, = ax2.step([0, TSim], [limInf,limSup], 'blue', linewidth=3, label='MV', where='post') \n",
        "l3, = ax2.step([0, TSim], [limInf,limSup], 'green', linewidth=3, label='MVP', where='post') \n",
        "l4, = ax2.step([0, TSim], [limInf,limSup], 'cyan', label='MVI', where='post')\n",
        "l5, = ax2.step([0, TSim], [limInf,limSup], 'magenta', label='MVD', where='post')\n",
        "l6, = ax2.step([0, TSim], [limInf,limSup], 'red', label='MVFF', where='post') \n",
        "ax2.set_ylabel('MV [%]')\n",
        "ax2.legend (loc='best')\n",
        "\n",
        "\n",
        "#----SP_and_PV---------\n",
        "limSup = 65\n",
        "limInf = 40\n",
        "l7, = ax3.step([0, TSim], [limInf,limSup], 'brown', linewidth=4, label='SP', where=\"post\")\n",
        "l8, = ax3.step([0, TSim], [limInf,limSup], 'green', linewidth=2, label='PV', where='post')\n",
        "ax3.set_ylabel('PV [°C]')\n",
        "ax3.legend (loc='best')\n",
        "\n",
        "#-------DV-------------\n",
        "limSup=75\n",
        "limInf = 40\n",
        "l9, = ax4.step([0, TSim], [limInf,limSup], 'red', label='DV', where='post')\n",
        "ax4.set_xlabel('Time [s]')\n",
        "ax4.set_ylabel('DV [%]')\n",
        "ax4.legend (loc='best')\n",
        "\n",
        "\n",
        "#-----Set Data-----\n",
        "l1.set_data(t, Man)\n",
        "l2.set_data(t,MV)\n",
        "l3.set_data(t, MVP)\n",
        "l4.set_data(t,MVI)\n",
        "l5.set_data(t, MVD)\n",
        "l6.set_data(t, MVFF)\n",
        "l7.set_data(t, SP)\n",
        "l8.set_data(t, PV)\n",
        "l9.set_data(t, DV)\n",
        "\n",
        "tMax = len(t)\n",
        "ax1.set_xlim(0, tMax)\n",
        "ax2.set_xlim(0, tMax)\n",
        "ax3.set_xlim(0, tMax)\n",
        "ax4.set_xlim(0, tMax)\n",
        "\n",
        "ax1.grid()\n",
        "ax2.grid()\n",
        "ax3.grid()\n",
        "ax4.grid()\n",
        "\n"
      ]
    },
    {
      "cell_type": "markdown",
      "metadata": {},
      "source": [
        "### Bode plot"
      ]
    },
    {
      "cell_type": "markdown",
      "metadata": {},
      "source": []
    }
  ],
  "metadata": {
    "kernelspec": {
      "display_name": "Python 3 (ipykernel)",
      "language": "python",
      "name": "python3"
    },
    "language_info": {
      "codemirror_mode": {
        "name": "ipython",
        "version": 3
      },
      "file_extension": ".py",
      "mimetype": "text/x-python",
      "name": "python",
      "nbconvert_exporter": "python",
      "pygments_lexer": "ipython3",
      "version": "3.9.7"
    }
  },
  "nbformat": 4,
  "nbformat_minor": 4
}
